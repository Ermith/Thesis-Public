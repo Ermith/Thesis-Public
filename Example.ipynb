{
 "cells": [
  {
   "cell_type": "markdown",
   "source": [
    "## Remixing OSM maps using pixel RNNs\r\n",
    "\r\n",
    "This file shows an example of how to use the nn_generator.\r\n",
    "All the necessary files are contained in the nn_generation folder.\r\n",
    "A simple import ```import nn_generator``` gives an access to all the necessary functionality.\r\n",
    "Click the green `>` symbol next to the cell to run it. Running multiple cells will queue them to run one after another.\r\n",
    "Under **Cells** you can find an option **Run all cells**.\r\n",
    "\r\n",
    "```nn_generator.libraries.basic.images``` contains function ```show_image```. This is just a help function to show images in jupyter notebook. It is not possible to use without ```%matplotlib inline``` because GUI backend \"Tkinter\" produced errors. So \"agg\" backend is used for matplotlib."
   ],
   "metadata": {}
  },
  {
   "cell_type": "code",
   "execution_count": null,
   "source": [
    "import nn_generator as gen\r\n",
    "from nn_generator.libraries.basic.images import show_image\r\n",
    "%matplotlib inline"
   ],
   "outputs": [],
   "metadata": {}
  },
  {
   "cell_type": "markdown",
   "source": [
    "All public functions have documentation. Calling ```help(function)``` will display, how to use the function."
   ],
   "metadata": {}
  },
  {
   "cell_type": "code",
   "execution_count": null,
   "source": [
    "help(gen)\r\n",
    "help(gen.learn)\r\n",
    "help(gen.generate)"
   ],
   "outputs": [],
   "metadata": {}
  },
  {
   "cell_type": "markdown",
   "source": [
    "### Running the algorithm\n",
    "```learn()``` function executes entirity of the learning process. The expected input of this function is a file with input pgm images. To get such images, follow **readme** on how to download and parse data from **OpenStreetMap** and **OpenTopography**. The learning process automatically creates a folder containing all intermediate results for future usage. It parses the input images, constructs training datasets and trains pixel RNNs on them. Output of this algorithm are all necessary networks needed for generation. Be warned, that the process requiers a lot of computational and memory resources.\n",
    "\n",
    "```generate()``` function executes entirity of the generation process. It simmilarly expects folder of input pgm images. This process automatically saves images throughout the generation into the output folder. It also returns dictionary of generated images as numpy arrays.\n",
    "\n",
    "```nn_generator/examples/``` contains learning and user inputs used in this thesis. It also contains other default files for algorithm execution. The network structures and generation configuration file."
   ],
   "metadata": {}
  },
  {
   "cell_type": "code",
   "execution_count": null,
   "source": [
    "# This runs the entire learning algorithm\r\n",
    "gen.learn(training_data=\"nn_generator/examples/learning_input/cz\")"
   ],
   "outputs": [],
   "metadata": {}
  },
  {
   "cell_type": "code",
   "execution_count": null,
   "source": [
    "images = gen.generate(\r\n",
    "    generation_data=\"nn_generator/examples/generation_input/NE\",\r\n",
    "    output_folder=\"results_czech\")\r\n",
    "    \r\n",
    "show_image(images[\"heights\"])\r\n",
    "show_image(images[\"roads\"])\r\n",
    "show_image(images[\"rivers\"])\r\n",
    "show_image(images[\"buildings\"])"
   ],
   "outputs": [],
   "metadata": {}
  },
  {
   "cell_type": "markdown",
   "source": [
    "### Lower level\n",
    "The nn_generator module also provides lower level functions used in ```learn()``` function. These functions also allow to save intermidiate results into different files for further experimation. For example, only heights networks are retrained from sahara terrain in the following cells. Intermidiate results and output models are saved into separate file: intermidiate into ```sahara_heights``` and models into ```models_sahara```."
   ],
   "metadata": {}
  },
  {
   "cell_type": "code",
   "execution_count": null,
   "source": [
    "help(gen.parse)\r\n",
    "help(gen.construct_training_datasets)\r\n",
    "help(gen.train_networks)"
   ],
   "outputs": [],
   "metadata": {}
  },
  {
   "cell_type": "code",
   "execution_count": null,
   "source": [
    "gen.parse(\r\n",
    "    mode=\"heights\",\r\n",
    "    image=\"nn_generator/examples/learning_input/sahara/heights.pgm\",\r\n",
    "    output_folder=\"sahara_heights\")\r\n"
   ],
   "outputs": [],
   "metadata": {}
  },
  {
   "cell_type": "code",
   "execution_count": null,
   "source": [
    "\r\n",
    "gen.construct_training_datasets(\r\n",
    "    mode=\"heights\",\r\n",
    "    folder=\"sahara_heights\")\r\n"
   ],
   "outputs": [],
   "metadata": {}
  },
  {
   "cell_type": "code",
   "execution_count": null,
   "source": [
    "\r\n",
    "gen.train_networks(\r\n",
    "    mode=\"heights\",\r\n",
    "    data_folder=\"sahara_heights\",\r\n",
    "    structures_folder=\"nn_generator/examples/model_structures\",\r\n",
    "    output_folder=\"models_sahara\",\r\n",
    "    epochs=(10,10,10))"
   ],
   "outputs": [],
   "metadata": {}
  },
  {
   "cell_type": "code",
   "execution_count": null,
   "source": [
    "images = gen.generate(\r\n",
    "    generation_data=\"nn_generator/examples/generation_input/N\",\r\n",
    "    output_folder=\"results_sahara\",\r\n",
    "    config_file=\"nn_generator/examples/sahara_config.txt\",\r\n",
    "    random_modifier=10)\r\n",
    "\r\n",
    "show_image(images[\"heights\"])\r\n",
    "show_image(images[\"roads\"])\r\n",
    "show_image(images[\"rivers\"])\r\n",
    "show_image(images[\"buildings\"])"
   ],
   "outputs": [],
   "metadata": {}
  },
  {
   "cell_type": "markdown",
   "source": [
    "```nn_generator/examples/models``` contains pretrained Czech models used for generation of results in the thesis. Similarly ```sahara_models``` and ```himalayas_models``` in the examples contain height networks used for generation. Following cells show generation using these networks by specifying generation configuration. To use sahara, himalayas or any different networks, use different config file or create your own as seen in the ```examples``` folder. (Results may differ due to the randomness.)"
   ],
   "metadata": {}
  },
  {
   "cell_type": "code",
   "execution_count": null,
   "source": [
    "images = gen.generate(\r\n",
    "    generation_data=\"nn_generator/examples/generation_input/N\",\r\n",
    "    output_folder=\"results_pretrained\",\r\n",
    "    config_file=\"nn_generator/examples/pretrained_config.txt\")\r\n",
    "\r\n",
    "show_image(images[\"heights\"])\r\n",
    "show_image(images[\"roads\"])\r\n",
    "show_image(images[\"rivers\"])\r\n",
    "show_image(images[\"buildings\"])"
   ],
   "outputs": [],
   "metadata": {}
  }
 ],
 "metadata": {
  "interpreter": {
   "hash": "57baa5815c940fdaff4d14510622de9616cae602444507ba5d0b6727c008cbd6"
  },
  "kernelspec": {
   "name": "python3",
   "display_name": "Python 3.7.8 64-bit"
  },
  "language_info": {
   "codemirror_mode": {
    "name": "ipython",
    "version": 3
   },
   "file_extension": ".py",
   "mimetype": "text/x-python",
   "name": "python",
   "nbconvert_exporter": "python",
   "pygments_lexer": "ipython3",
   "version": "3.7.8"
  }
 },
 "nbformat": 4,
 "nbformat_minor": 2
}