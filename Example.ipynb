{
 "cells": [
  {
   "cell_type": "markdown",
   "metadata": {},
   "source": [
    "## Remixing OSM maps using pixel RNNs\n",
    "\n",
    "This file shows an example of how to use nn_generator.\n",
    "All the necessary files are contained in the nn_generation folder.\n",
    "A simple import ```import nn_generator``` gives access to all necessary functionality.\n",
    "\n",
    "```nn_generator.libraries.basic.images``` contains function ```show_image```. This is just help function to show images in jupyter notebook. It is not possible to use without ```%matplotlib inline``` because GUI backend \"Tkinter\" produced errors. So \"agg\" backend is used for matplotlib."
   ]
  },
  {
   "cell_type": "code",
   "execution_count": null,
   "metadata": {},
   "outputs": [],
   "source": [
    "import nn_generator as gen\n",
    "from nn_generator.libraries.basic.images import show_image\n",
    "%matplotlib inline"
   ]
  },
  {
   "cell_type": "markdown",
   "metadata": {},
   "source": [
    "All public functions have documentation. Calling ```help(function)``` will display, how to use the function."
   ]
  },
  {
   "cell_type": "code",
   "execution_count": null,
   "metadata": {},
   "outputs": [],
   "source": [
    "help(gen)\n",
    "help(gen.learn)\n",
    "help(gen.generate)"
   ]
  },
  {
   "cell_type": "markdown",
   "metadata": {},
   "source": [
    "### Running the algorithm\n",
    "```learn()``` function executes entirity of the learning process. The expected input of this function is a file with input pgm images. To get such images, follow **readme** on how to download and parse data from **OpenStreetMap** and **OpenTopography**. The learning process automatically creates a folder containing all intermediate results for future usage. It parses the input images, constructs training datasets and trains pixel RNNs on them. Output of this algorithm are all necessary networks needed for generation. Be warned, that the process requiers a lot of computational and memory resources.\n",
    "\n",
    "```generate()``` function executes entirity of the generation process. It simmilarly expects folder of input pgm images. This process automatically saves images throughout the generation into the output folder. It also returns dictionary of generated images as numpy arrays.\n",
    "\n",
    "```nn_generator/examples/``` contains learning and user inputs used in this thesis. It also contains other default files for algorithm execution. The network structures and generation configuration file."
   ]
  },
  {
   "cell_type": "code",
   "execution_count": null,
   "metadata": {},
   "outputs": [],
   "source": [
    "# This runs the entire learning algorithm\n",
    "gen.learn(\"nn_generator/examples/learning_input/cz\")"
   ]
  },
  {
   "cell_type": "code",
   "execution_count": null,
   "metadata": {},
   "outputs": [],
   "source": [
    "images = gen.generate(\"nn_generator/examples/generation_input/simple\", \"results_czech\")\n",
    "show_image(images[\"heights\"])\n",
    "show_image(images[\"roads\"])\n",
    "show_image(images[\"rivers\"])\n",
    "show_image(images[\"buildings\"])"
   ]
  },
  {
   "cell_type": "markdown",
   "metadata": {},
   "source": [
    "### Lower level\n",
    "The nn_generator module also provides lower level functions used in ```learn()``` function. This will allow further tinkering with the algorithm. For example, only heights networks are retrained from sahara terrain in the following cells. These functions also allow to save intermidiate results in different files for further experimation."
   ]
  },
  {
   "cell_type": "code",
   "execution_count": null,
   "metadata": {},
   "outputs": [],
   "source": [
    "help(gen.parse)\n",
    "help(gen.construct_training_datasets)\n",
    "help(gen.train_networks)"
   ]
  },
  {
   "cell_type": "code",
   "execution_count": null,
   "metadata": {},
   "outputs": [],
   "source": [
    "# Retrain heights networks from sahara terrain\n",
    "# Functions used in gen.learn()\n",
    "gen.parse(\"heights\", \"nn_generator/examples/learning_input/sahara/heights.pgm\")\n",
    "gen.construct_training_datasets(\"heights\")\n",
    "gen.train_networks(\"heights\", \"nn_generator/examples/model_structures\", \"models\", epochs=(10,10,10))"
   ]
  },
  {
   "cell_type": "code",
   "execution_count": null,
   "metadata": {},
   "outputs": [],
   "source": [
    "images = gen.generate(\"nn_generator/examples/generation_input/complex\", \"results_sahara\", random_modifier=10)\n",
    "\n",
    "show_image(images[\"heights\"])\n",
    "show_image(images[\"roads\"])\n",
    "show_image(images[\"rivers\"])\n",
    "show_image(images[\"buildings\"])"
   ]
  }
 ],
 "metadata": {
  "interpreter": {
   "hash": "57baa5815c940fdaff4d14510622de9616cae602444507ba5d0b6727c008cbd6"
  },
  "kernelspec": {
   "display_name": "Python 3",
   "language": "python",
   "name": "python3"
  },
  "language_info": {
   "codemirror_mode": {
    "name": "ipython",
    "version": 3
   },
   "file_extension": ".py",
   "mimetype": "text/x-python",
   "name": "python",
   "nbconvert_exporter": "python",
   "pygments_lexer": "ipython3",
   "version": "3.7.8"
  }
 },
 "nbformat": 4,
 "nbformat_minor": 2
}