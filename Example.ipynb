{
 "cells": [
  {
   "cell_type": "code",
   "execution_count": null,
   "metadata": {},
   "outputs": [],
   "source": [
    "import nn_generator as gen"
   ]
  },
  {
   "cell_type": "code",
   "execution_count": null,
   "metadata": {},
   "outputs": [],
   "source": [
    "help(gen)\n",
    "help(gen.learn)\n",
    "help(gen.generate)"
   ]
  },
  {
   "cell_type": "code",
   "execution_count": null,
   "metadata": {},
   "outputs": [],
   "source": [
    "# This runs the entire algorithm\n",
    "gen.learn(\"nn_generator/examples/learning_input/cz\")\n",
    "gen.generate(\"nn_generator/examples/generation_input/simple\", \"results_czech\")"
   ]
  },
  {
   "cell_type": "code",
   "execution_count": null,
   "metadata": {},
   "outputs": [],
   "source": [
    "help(gen.parse)\n",
    "help(gen.construct_training_datasets)\n",
    "help(gen.train_networks)"
   ]
  },
  {
   "cell_type": "code",
   "execution_count": null,
   "metadata": {},
   "outputs": [],
   "source": [
    "# Retrain heights network for sahara\n",
    "# Lower level functions\n",
    "gen.parse(\"heights\", \"nn_generator/examples/learning_input/sahara/heights.pgm\")\n",
    "gen.construct_training_datasets(\"heights\")\n",
    "gen.train_networks(\"heights\", \"nn_generator/examples/model_structures\", \"models\", epochs=(10,10,10))\n",
    "\n",
    "gen.generate(\"nn_generator/examples/generation_input/complex\", \"results_sahara\")"
   ]
  }
 ],
 "metadata": {
  "interpreter": {
   "hash": "57baa5815c940fdaff4d14510622de9616cae602444507ba5d0b6727c008cbd6"
  },
  "kernelspec": {
   "display_name": "Python 3",
   "language": "python",
   "name": "python3"
  },
  "language_info": {
   "codemirror_mode": {
    "name": "ipython",
    "version": 3
   },
   "file_extension": ".py",
   "mimetype": "text/x-python",
   "name": "python",
   "nbconvert_exporter": "python",
   "pygments_lexer": "ipython3",
   "version": "3.7.8"
  }
 },
 "nbformat": 4,
 "nbformat_minor": 2
}