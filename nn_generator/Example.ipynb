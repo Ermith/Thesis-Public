{
 "cells": [
  {
   "cell_type": "code",
   "execution_count": null,
   "id": "f4032d85",
   "metadata": {},
   "outputs": [],
   "source": [
    "# RUN THIS FIRST FOR DEPENDENCIES\n",
    "# The cells are in order. You can use \">>\" function to run all the cells in order.\n",
    "from parse import parse_image\n",
    "from normalize_heights import normalize_heights\n",
    "from process_training_data import process_training_data\n",
    "from train import train\n",
    "from generate import generate_map\n",
    "from libraries.images import show_image\n",
    "from libraries.matrix_manipulation import rescale\n",
    "import cv2\n",
    "\n",
    "# WARNING\n",
    "# Parsing and training computations are demanding. Especially computations connected to buildings due to big ammount of data."
   ]
  },
  {
   "cell_type": "code",
   "execution_count": null,
   "id": "1967287a",
   "metadata": {},
   "outputs": [],
   "source": [
    "# PARSE HEIGHTS\n",
    "height_image = \"raw_data/cz/heights.pgm\" # Provide the name of your image\n",
    "parse_image(height_image, \"training_data/height_layers\")\n",
    "# These scripts automatically work with \"training_data/heigh_layers\"\n",
    "normalize_heights()\n",
    "process_training_data(\"height\", 16, 64, None)\n",
    "process_training_data(\"height\", 4, 16, 64)\n",
    "process_training_data(\"height\", 1, 4, 16)"
   ]
  },
  {
   "cell_type": "code",
   "execution_count": null,
   "id": "4c0f7d43",
   "metadata": {},
   "outputs": [],
   "source": [
    "# TRAIN HIGHTS\n",
    "# Make sure the directory, where you store models, is present (\"models/\")\n",
    "train(\"model_structures/heights_single.txt\", \"training_data/heights_64-16_150000\", \"models/heights_64-16\")\n",
    "train(\"model_structures/heights.txt\", \"training_data/heights_64-16-4_150000\", \"models/heights_64-16-4\")\n",
    "train(\"model_structures/heights.txt\", \"training_data/heights_16-4-1_150000\", \"models/heights_16-4-1\")"
   ]
  },
  {
   "cell_type": "code",
   "execution_count": null,
   "id": "af21d691",
   "metadata": {},
   "outputs": [],
   "source": [
    "# PARSE FEATURES\n",
    "data_folder = \"raw_data/cz\" # Provide your images data folder\n",
    "parse_image(f\"{data_folder}/heights.pgm\", \"training_data/height_layers\", compute_differences=True)\n",
    "for mode in [\"road\", \"river\", \"building\"]:\n",
    "    parse_image(f\"{data_folder}/{mode}s.pgm\", f\"training_data/{mode}_layers\")\n",
    "    parse_image(f\"{data_folder}/{mode}s.pgm\", f\"training_data/{mode}_layers\", iterations=1, blur=True)\n",
    "    # These scripts automatically work with \"training_data/{mode}_layers\"\n",
    "    process_training_data(mode, 16, 64, None)\n",
    "    process_training_data(mode, 4, 16, 64)\n",
    "    process_training_data(mode, 1, 16, 64)\n",
    "    "
   ]
  },
  {
   "cell_type": "code",
   "execution_count": null,
   "id": "708b75c0",
   "metadata": {},
   "outputs": [],
   "source": [
    "# TRAIN FEATURES\n",
    "# Make sure the directory, where you store models, is present (\"models/\")\n",
    "for mode in [\"roads\", \"rivers\", \"buildings\"]:\n",
    "    train(f\"model_structures/{mode}2.txt\", f\"training_data/{mode}_64-16_150000\", f\"models/{mode}_64-16\")\n",
    "    train(f\"model_structures/{mode}1.txt\", f\"training_data/{mode}_64-16-4_150000\", f\"models/{mode}_64-16-4\")\n",
    "    train(f\"model_structures/{mode}0_blurry.txt\", f\"training_data/{mode}_16-4-1_150000/blurry\", f\"models/{mode}_16-4-blurry\")\n",
    "    train(f\"model_structures/{mode}0_focus.txt\", f\"training_data/{mode}_16-4-1_150000/focus\", f\"models/{mode}_blurry-focus\")"
   ]
  },
  {
   "cell_type": "code",
   "execution_count": null,
   "id": "be059392",
   "metadata": {},
   "outputs": [],
   "source": [
    "# GENERATE\n",
    "#=======================\n",
    "# This is configuration file specifying networks used for generation.\n",
    "# Edit, if you have different networks.\n",
    "with open(\"generation_config.txt\") as config:\n",
    "    print(config.read())\n",
    "\n",
    "generate_map(\"generation_data/complex\", \"generated/complex\")"
   ]
  }
 ],
 "metadata": {
  "kernelspec": {
   "display_name": "Python 3",
   "language": "python",
   "name": "python3"
  },
  "language_info": {
   "codemirror_mode": {
    "name": "ipython",
    "version": 3
   },
   "file_extension": ".py",
   "mimetype": "text/x-python",
   "name": "python",
   "nbconvert_exporter": "python",
   "pygments_lexer": "ipython3",
   "version": "3.7.8"
  }
 },
 "nbformat": 4,
 "nbformat_minor": 5
}
